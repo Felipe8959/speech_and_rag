{
 "cells": [
  {
   "cell_type": "code",
   "execution_count": 1,
   "metadata": {},
   "outputs": [
    {
     "name": "stdout",
     "output_type": "stream",
     "text": [
      "   0 Mapeador de som da Microsoft - Input, MME (2 in, 0 out)\n",
      ">  1 Mixagem estéreo (Realtek(R) Aud, MME (2 in, 0 out)\n",
      "   2 Grupo de microfones (Tecnologia, MME (4 in, 0 out)\n",
      "   3 Mapeador de som da Microsoft - Output, MME (0 in, 2 out)\n",
      "<  4 Alto-falantes (Realtek(R) Audio, MME (0 in, 8 out)\n",
      "   5 LS24C36x (HD Audio Driver for D, MME (0 in, 2 out)\n",
      "   6 Driver de captura de som primário, Windows DirectSound (2 in, 0 out)\n",
      "   7 Mixagem estéreo (Realtek(R) Audio), Windows DirectSound (2 in, 0 out)\n",
      "   8 Grupo de microfones (Tecnologia Intel® Smart Sound para microfones digitais), Windows DirectSound (4 in, 0 out)\n",
      "   9 Driver de som primário, Windows DirectSound (0 in, 2 out)\n",
      "  10 Alto-falantes (Realtek(R) Audio), Windows DirectSound (0 in, 8 out)\n",
      "  11 LS24C36x (HD Audio Driver for Display Audio), Windows DirectSound (0 in, 2 out)\n",
      "  12 Alto-falantes (Realtek(R) Audio), Windows WASAPI (0 in, 2 out)\n",
      "  13 LS24C36x (HD Audio Driver for Display Audio), Windows WASAPI (0 in, 2 out)\n",
      "  14 Grupo de microfones (Tecnologia Intel® Smart Sound para microfones digitais), Windows WASAPI (2 in, 0 out)\n",
      "  15 Mixagem estéreo (Realtek(R) Audio), Windows WASAPI (2 in, 0 out)\n",
      "  16 Grupo de microfones 1 (), Windows WDM-KS (2 in, 0 out)\n",
      "  17 Grupo de microfones 2 (), Windows WDM-KS (2 in, 0 out)\n",
      "  18 Grupo de microfones 3 (), Windows WDM-KS (4 in, 0 out)\n",
      "  19 LS24C36x (ACX HD Audio Speaker), Windows WDM-KS (0 in, 2 out)\n",
      "  20 Mixagem estéreo (Realtek HD Audio Stereo input), Windows WDM-KS (2 in, 0 out)\n",
      "  21 Microfone (Realtek HD Audio Mic input), Windows WDM-KS (2 in, 0 out)\n",
      "  22 Speakers 1 (Realtek HD Audio output with SST), Windows WDM-KS (0 in, 2 out)\n",
      "  23 Speakers 2 (Realtek HD Audio output with SST), Windows WDM-KS (0 in, 8 out)\n",
      "  24 Alto-falante (Realtek HD Audio output with SST), Windows WDM-KS (2 in, 0 out)\n",
      "  25 Headphones 1 (Realtek HD Audio 2nd output with SST), Windows WDM-KS (0 in, 2 out)\n",
      "  26 Headphones 2 (Realtek HD Audio 2nd output with SST), Windows WDM-KS (0 in, 8 out)\n",
      "  27 Alto-falante (Realtek HD Audio 2nd output with SST), Windows WDM-KS (2 in, 0 out)\n",
      "  28 Fones de ouvido (), Windows WDM-KS (0 in, 2 out)\n",
      "  29 Input (), Windows WDM-KS (2 in, 0 out)\n"
     ]
    }
   ],
   "source": [
    "import sounddevice as sd\n",
    "\n",
    "# lista todos os dispositivos de áudio disponíveis\n",
    "print(sd.query_devices())"
   ]
  },
  {
   "cell_type": "code",
   "execution_count": 2,
   "metadata": {},
   "outputs": [
    {
     "name": "stdout",
     "output_type": "stream",
     "text": [
      "({'name': 'MME', 'devices': [0, 1, 2, 3, 4, 5], 'default_input_device': 1, 'default_output_device': 4}, {'name': 'Windows DirectSound', 'devices': [6, 7, 8, 9, 10, 11], 'default_input_device': 6, 'default_output_device': 9}, {'name': 'Windows WASAPI', 'devices': [12, 13, 14, 15], 'default_input_device': 15, 'default_output_device': 12}, {'name': 'Windows WDM-KS', 'devices': [16, 17, 18, 19, 20, 21, 22, 23, 24, 25, 26, 27, 28, 29], 'default_input_device': 20, 'default_output_device': 22})\n"
     ]
    }
   ],
   "source": [
    "import sounddevice as sd\n",
    "print(sd.query_hostapis())"
   ]
  }
 ],
 "metadata": {
  "kernelspec": {
   "display_name": "Python 3",
   "language": "python",
   "name": "python3"
  },
  "language_info": {
   "codemirror_mode": {
    "name": "ipython",
    "version": 3
   },
   "file_extension": ".py",
   "mimetype": "text/x-python",
   "name": "python",
   "nbconvert_exporter": "python",
   "pygments_lexer": "ipython3",
   "version": "3.11.9"
  }
 },
 "nbformat": 4,
 "nbformat_minor": 2
}
