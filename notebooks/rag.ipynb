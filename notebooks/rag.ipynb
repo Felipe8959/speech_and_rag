{
 "cells": [
  {
   "cell_type": "code",
   "execution_count": 2,
   "metadata": {},
   "outputs": [],
   "source": [
    "import os\n",
    "import re\n",
    "import numpy as np\n",
    "import pandas as pd\n",
    "from unidecode import unidecode\n",
    "from openai import OpenAI\n",
    "from nltk.corpus import stopwords\n",
    "from nltk.stem import WordNetLemmatizer\n",
    "from sklearn.feature_extraction.text import TfidfVectorizer\n",
    "from sklearn.metrics.pairwise import cosine_similarity\n",
    "\n",
    "# nltk.download('stopwords')\n",
    "# nltk.download('wordnet')"
   ]
  },
  {
   "cell_type": "markdown",
   "metadata": {},
   "source": [
    "## Configurações"
   ]
  },
  {
   "cell_type": "code",
   "execution_count": 3,
   "metadata": {},
   "outputs": [],
   "source": [
    "mensagem_cliente = \"cartão de crédito\"\n",
    "\n",
    "client = OpenAI()\n",
    "api = os.getenv(\"OPENAI_API_KEY\")\n",
    "client.api_key = api"
   ]
  },
  {
   "cell_type": "markdown",
   "metadata": {},
   "source": [
    "## Dados"
   ]
  },
  {
   "cell_type": "code",
   "execution_count": 4,
   "metadata": {},
   "outputs": [
    {
     "data": {
      "text/html": [
       "<div>\n",
       "<style scoped>\n",
       "    .dataframe tbody tr th:only-of-type {\n",
       "        vertical-align: middle;\n",
       "    }\n",
       "\n",
       "    .dataframe tbody tr th {\n",
       "        vertical-align: top;\n",
       "    }\n",
       "\n",
       "    .dataframe thead th {\n",
       "        text-align: right;\n",
       "    }\n",
       "</style>\n",
       "<table border=\"1\" class=\"dataframe\">\n",
       "  <thead>\n",
       "    <tr style=\"text-align: right;\">\n",
       "      <th></th>\n",
       "      <th>protocolo</th>\n",
       "      <th>texto_manif</th>\n",
       "      <th>texto_resposta</th>\n",
       "    </tr>\n",
       "  </thead>\n",
       "  <tbody>\n",
       "    <tr>\n",
       "      <th>0</th>\n",
       "      <td>1</td>\n",
       "      <td>Estou com problemas na fatura, veio com valor ...</td>\n",
       "      <td>Prezado cliente, verificamos sua fatura e real...</td>\n",
       "    </tr>\n",
       "    <tr>\n",
       "      <th>1</th>\n",
       "      <td>2</td>\n",
       "      <td>Minha internet está muito lenta nos últimos dias.</td>\n",
       "      <td>Entendemos seu problema, reiniciamos o seu ser...</td>\n",
       "    </tr>\n",
       "    <tr>\n",
       "      <th>2</th>\n",
       "      <td>3</td>\n",
       "      <td>Não consigo acessar minha conta no aplicativo.</td>\n",
       "      <td>Verificamos que houve uma atualização recente ...</td>\n",
       "    </tr>\n",
       "    <tr>\n",
       "      <th>3</th>\n",
       "      <td>4</td>\n",
       "      <td>Preciso de uma segunda via da fatura do mês pa...</td>\n",
       "      <td>A segunda via da sua fatura foi enviada para o...</td>\n",
       "    </tr>\n",
       "    <tr>\n",
       "      <th>4</th>\n",
       "      <td>5</td>\n",
       "      <td>Fiz uma compra, mas não recebi a confirmação.</td>\n",
       "      <td>Verificamos seu pedido e ele foi confirmado co...</td>\n",
       "    </tr>\n",
       "  </tbody>\n",
       "</table>\n",
       "</div>"
      ],
      "text/plain": [
       "   protocolo                                        texto_manif  \\\n",
       "0          1  Estou com problemas na fatura, veio com valor ...   \n",
       "1          2  Minha internet está muito lenta nos últimos dias.   \n",
       "2          3     Não consigo acessar minha conta no aplicativo.   \n",
       "3          4  Preciso de uma segunda via da fatura do mês pa...   \n",
       "4          5      Fiz uma compra, mas não recebi a confirmação.   \n",
       "\n",
       "                                      texto_resposta  \n",
       "0  Prezado cliente, verificamos sua fatura e real...  \n",
       "1  Entendemos seu problema, reiniciamos o seu ser...  \n",
       "2  Verificamos que houve uma atualização recente ...  \n",
       "3  A segunda via da sua fatura foi enviada para o...  \n",
       "4  Verificamos seu pedido e ele foi confirmado co...  "
      ]
     },
     "execution_count": 4,
     "metadata": {},
     "output_type": "execute_result"
    }
   ],
   "source": [
    "dados = pd.read_excel('../data/dataset.xlsx')\n",
    "df_dados = pd.DataFrame(dados)\n",
    "df_dados.head()"
   ]
  },
  {
   "cell_type": "code",
   "execution_count": 5,
   "metadata": {},
   "outputs": [],
   "source": [
    "def limpar_texto(texto):\n",
    "    # Converte para string (caso haja valores NaN ou não-string)\n",
    "    texto = str(texto)\n",
    "    # Converte para minúsculas\n",
    "    texto = texto.lower()\n",
    "    # Remove acentuações\n",
    "    texto = unidecode(texto)\n",
    "    # Remove caracteres especiais e mantém apenas letras, números e espaços\n",
    "    texto = re.sub(r'[^a-z0-9\\s]', '', texto)\n",
    "    return texto"
   ]
  },
  {
   "cell_type": "markdown",
   "metadata": {},
   "source": [
    "## Transformando as respostas em lista"
   ]
  },
  {
   "cell_type": "code",
   "execution_count": 6,
   "metadata": {},
   "outputs": [
    {
     "data": {
      "text/plain": [
       "['Estou com problemas na fatura, veio com valor errado.',\n",
       " 'Minha internet está muito lenta nos últimos dias.',\n",
       " 'Não consigo acessar minha conta no aplicativo.',\n",
       " 'Preciso de uma segunda via da fatura do mês passado.',\n",
       " 'Fiz uma compra, mas não recebi a confirmação.']"
      ]
     },
     "execution_count": 6,
     "metadata": {},
     "output_type": "execute_result"
    }
   ],
   "source": [
    "manifestacoes = df_dados['texto_manif'].tolist()\n",
    "manifestacoes_amostragem = manifestacoes[:5]\n",
    "manifestacoes_amostragem"
   ]
  },
  {
   "cell_type": "markdown",
   "metadata": {},
   "source": [
    "## Função para encontrar a manifestação mais similar"
   ]
  },
  {
   "cell_type": "code",
   "execution_count": 7,
   "metadata": {},
   "outputs": [
    {
     "data": {
      "text/plain": [
       "'cartao credito'"
      ]
     },
     "execution_count": 7,
     "metadata": {},
     "output_type": "execute_result"
    }
   ],
   "source": [
    "lemmatizer = WordNetLemmatizer()\n",
    "stop_words = set(stopwords.words('portuguese'))\n",
    "\n",
    "def preprocess_text(text):\n",
    "    text = limpar_texto(text)\n",
    "    \n",
    "    # tokenizar, lematizar e remover stopwords\n",
    "    tokens = text.split()\n",
    "    tokens = [lemmatizer.lemmatize(word) for word in tokens if word not in stop_words]\n",
    "    \n",
    "    return ' '.join(tokens)\n",
    "\n",
    "# Pré-processar as manifestações antes de gerar a matriz TF-IDF\n",
    "manifestacoes_processadas = [preprocess_text(m) for m in manifestacoes]\n",
    "\n",
    "# Gerar a matriz TF-IDF com os textos já pré-processados\n",
    "vectorizer = TfidfVectorizer(ngram_range=(1, 2))  # unigramas e bigramas\n",
    "tfidf_matrix = vectorizer.fit_transform(manifestacoes_processadas)\n",
    "\n",
    "mensagem_cliente_processada = preprocess_text(mensagem_cliente)\n",
    "mensagem_cliente_processada"
   ]
  },
  {
   "cell_type": "code",
   "execution_count": 8,
   "metadata": {},
   "outputs": [
    {
     "name": "stdout",
     "output_type": "stream",
     "text": [
      "\n",
      "Mensagem cliente: cartão de crédito\n",
      "\n",
      "Mensagem recuperada:  O sistema de pagamento não aceita meu cartão de crédito, estou sem opções de pagamento.       \n",
      "\n",
      "Resposta recuperada: Tente utilizar outro cartão ou método de pagamento. Caso continue com problemas, entre em contato conosco.\n"
     ]
    }
   ],
   "source": [
    "def recuperar_resposta(mensagem_cliente_text):\n",
    "    # Pré-processar a mensagem do cliente para manter consistência com a base\n",
    "    mensagem_cliente_text = preprocess_text(mensagem_cliente_text)\n",
    "\n",
    "    # Vetorizar a nova manifestação do cliente\n",
    "    mensagem_cliente_tfidf = vectorizer.transform([mensagem_cliente_text])\n",
    "\n",
    "    # Calcular a similaridade de cosseno com todas as manifestações da base\n",
    "    similaridades = cosine_similarity(mensagem_cliente_tfidf, tfidf_matrix)\n",
    "\n",
    "    # Encontrar o índice da manifestação mais similar\n",
    "    indice_mais_similar = similaridades.argmax()\n",
    "    similaridade_maxima = similaridades[0, indice_mais_similar]\n",
    "\n",
    "    threshold = 0.1  # Limiar ajustado\n",
    "\n",
    "    if similaridade_maxima >= threshold:\n",
    "        # Manifestação mais similar\n",
    "        manifestacao_similar = manifestacoes[indice_mais_similar]\n",
    "        \n",
    "        # Recuperar a resposta associada com base na manifestação\n",
    "        resposta_recuperada = df_dados.loc[df_dados['texto_manif'] == manifestacao_similar, 'texto_resposta'].values[0]\n",
    "    else:\n",
    "        # Caso não alcance o limiar, retorna uma mensagem padrão\n",
    "        manifestacao_similar = None\n",
    "        resposta_recuperada = \"Desculpe, não conseguimos encontrar uma resposta adequada no momento.\"\n",
    "\n",
    "    return resposta_recuperada, manifestacao_similar\n",
    "\n",
    "\n",
    "# teste para recuperar a manifestação e a resposta mais similar da base de dados\n",
    "resposta_recuperada, manifestacao_similar = recuperar_resposta(mensagem_cliente_processada)\n",
    "\n",
    "print(f\"\\nMensagem cliente: {mensagem_cliente}\")\n",
    "print(f\"\\nMensagem recuperada: {manifestacao_similar}\")\n",
    "print(f\"\\nResposta recuperada: {resposta_recuperada}\")"
   ]
  },
  {
   "cell_type": "markdown",
   "metadata": {},
   "source": [
    "## Função para gerar resposta final usando GPT-3.5 com a resposta recuperada"
   ]
  },
  {
   "cell_type": "code",
   "execution_count": 9,
   "metadata": {},
   "outputs": [],
   "source": [
    "def gerar_resposta_automatica(mensagem_cliente):    \n",
    "    # chamada da API para gerar a resposta final\n",
    "    response = client.chat.completions.create(\n",
    "        messages=[\n",
    "            {\"role\": \"system\", \"content\": \"Você é um atendente que responde clientes de forma educada, objetiva e clara.\"},\n",
    "            \n",
    "            # contexto com a resposta recuperada\n",
    "            {\"role\": \"user\", \"content\": f\"O cliente disse: {mensagem_cliente}. Manifestação anterior: {manifestacao_similar}. Resposta anterior: {resposta_recuperada}. Por favor, responda ao cliente de forma clara e objetiva.\"}\n",
    "        ],\n",
    "        model=\"gpt-3.5-turbo\",\n",
    "        temperature=0.1,        # ajuste de criatividade\n",
    "        max_tokens=150,         # limite de tokens para a resposta\n",
    "        n=1                     # número de respostas a serem geradas\n",
    "    )\n",
    "    \n",
    "    return response.choices[0].message.content.strip()  # apenas o texto limpo"
   ]
  },
  {
   "cell_type": "code",
   "execution_count": 10,
   "metadata": {},
   "outputs": [
    {
     "data": {
      "text/plain": [
       "'Peço desculpas pela inconveniência. Infelizmente, nosso sistema de pagamento não está aceitando seu cartão de crédito. Recomendo tentar outro cartão ou método de pagamento. Se o problema persistir, por favor, entre em contato conosco para que possamos ajudá-lo.'"
      ]
     },
     "execution_count": 10,
     "metadata": {},
     "output_type": "execute_result"
    }
   ],
   "source": [
    "resposta_automatica = gerar_resposta_automatica(mensagem_cliente)\n",
    "resposta_automatica"
   ]
  },
  {
   "cell_type": "code",
   "execution_count": null,
   "metadata": {},
   "outputs": [],
   "source": []
  }
 ],
 "metadata": {
  "kernelspec": {
   "display_name": "Python 3",
   "language": "python",
   "name": "python3"
  },
  "language_info": {
   "codemirror_mode": {
    "name": "ipython",
    "version": 3
   },
   "file_extension": ".py",
   "mimetype": "text/x-python",
   "name": "python",
   "nbconvert_exporter": "python",
   "pygments_lexer": "ipython3",
   "version": "3.11.9"
  }
 },
 "nbformat": 4,
 "nbformat_minor": 2
}
