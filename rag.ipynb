{
 "cells": [
  {
   "cell_type": "code",
   "execution_count": 15,
   "metadata": {},
   "outputs": [
    {
     "name": "stderr",
     "output_type": "stream",
     "text": [
      "[nltk_data] Downloading package stopwords to\n",
      "[nltk_data]     C:\\Users\\felip\\AppData\\Roaming\\nltk_data...\n",
      "[nltk_data]   Package stopwords is already up-to-date!\n",
      "[nltk_data] Downloading package wordnet to\n",
      "[nltk_data]     C:\\Users\\felip\\AppData\\Roaming\\nltk_data...\n",
      "[nltk_data]   Package wordnet is already up-to-date!\n"
     ]
    },
    {
     "data": {
      "text/plain": [
       "True"
      ]
     },
     "execution_count": 15,
     "metadata": {},
     "output_type": "execute_result"
    }
   ],
   "source": [
    "from sklearn.feature_extraction.text import TfidfVectorizer\n",
    "from sklearn.metrics.pairwise import cosine_similarity\n",
    "from openai import OpenAI\n",
    "import pandas as pd\n",
    "import os\n",
    "import numpy as np\n",
    "\n",
    "import nltk\n",
    "from nltk.corpus import stopwords\n",
    "from nltk.stem import WordNetLemmatizer\n",
    "import re\n",
    "\n",
    "nltk.download('stopwords')\n",
    "nltk.download('wordnet')"
   ]
  },
  {
   "cell_type": "code",
   "execution_count": 16,
   "metadata": {},
   "outputs": [],
   "source": [
    "mensagem_cliente = \"estou com problemas no aplicativo\""
   ]
  },
  {
   "cell_type": "code",
   "execution_count": 17,
   "metadata": {},
   "outputs": [],
   "source": [
    "client = OpenAI()\n",
    "\n",
    "api = os.getenv(\"OPENAI_API_KEY\")\n",
    "\n",
    "client.api_key = api"
   ]
  },
  {
   "cell_type": "markdown",
   "metadata": {},
   "source": [
    "## Dados"
   ]
  },
  {
   "cell_type": "code",
   "execution_count": 18,
   "metadata": {},
   "outputs": [
    {
     "data": {
      "text/html": [
       "<div>\n",
       "<style scoped>\n",
       "    .dataframe tbody tr th:only-of-type {\n",
       "        vertical-align: middle;\n",
       "    }\n",
       "\n",
       "    .dataframe tbody tr th {\n",
       "        vertical-align: top;\n",
       "    }\n",
       "\n",
       "    .dataframe thead th {\n",
       "        text-align: right;\n",
       "    }\n",
       "</style>\n",
       "<table border=\"1\" class=\"dataframe\">\n",
       "  <thead>\n",
       "    <tr style=\"text-align: right;\">\n",
       "      <th></th>\n",
       "      <th>protocolo</th>\n",
       "      <th>texto_manif</th>\n",
       "      <th>texto_resposta</th>\n",
       "    </tr>\n",
       "  </thead>\n",
       "  <tbody>\n",
       "    <tr>\n",
       "      <th>0</th>\n",
       "      <td>1</td>\n",
       "      <td>Estou com problemas na fatura, veio com valor ...</td>\n",
       "      <td>Prezado cliente, verificamos sua fatura e real...</td>\n",
       "    </tr>\n",
       "    <tr>\n",
       "      <th>1</th>\n",
       "      <td>2</td>\n",
       "      <td>Minha internet está muito lenta nos últimos dias.</td>\n",
       "      <td>Entendemos seu problema, reiniciamos o seu ser...</td>\n",
       "    </tr>\n",
       "    <tr>\n",
       "      <th>2</th>\n",
       "      <td>3</td>\n",
       "      <td>Não consigo acessar minha conta no aplicativo.</td>\n",
       "      <td>Verificamos que houve uma atualização recente ...</td>\n",
       "    </tr>\n",
       "    <tr>\n",
       "      <th>3</th>\n",
       "      <td>4</td>\n",
       "      <td>Preciso de uma segunda via da fatura do mês pa...</td>\n",
       "      <td>A segunda via da sua fatura foi enviada para o...</td>\n",
       "    </tr>\n",
       "    <tr>\n",
       "      <th>4</th>\n",
       "      <td>5</td>\n",
       "      <td>Fiz uma compra, mas não recebi a confirmação.</td>\n",
       "      <td>Verificamos seu pedido e ele foi confirmado co...</td>\n",
       "    </tr>\n",
       "    <tr>\n",
       "      <th>5</th>\n",
       "      <td>6</td>\n",
       "      <td>Meu produto chegou com defeito. Quero trocar.</td>\n",
       "      <td>Sentimos muito pelo ocorrido. Iniciamos o proc...</td>\n",
       "    </tr>\n",
       "    <tr>\n",
       "      <th>6</th>\n",
       "      <td>7</td>\n",
       "      <td>Estou tentando cancelar um serviço e não consigo.</td>\n",
       "      <td>Lamentamos pela dificuldade. O cancelamento fo...</td>\n",
       "    </tr>\n",
       "    <tr>\n",
       "      <th>7</th>\n",
       "      <td>8</td>\n",
       "      <td>Preciso alterar o endereço de entrega do meu p...</td>\n",
       "      <td>O endereço foi atualizado conforme solicitado....</td>\n",
       "    </tr>\n",
       "    <tr>\n",
       "      <th>8</th>\n",
       "      <td>9</td>\n",
       "      <td>Fiz um pagamento, mas ainda consta como pendente.</td>\n",
       "      <td>Seu pagamento foi identificado e o status será...</td>\n",
       "    </tr>\n",
       "    <tr>\n",
       "      <th>9</th>\n",
       "      <td>10</td>\n",
       "      <td>Gostaria de saber sobre os planos de assinatur...</td>\n",
       "      <td>Temos diversos planos disponíveis! Enviamos as...</td>\n",
       "    </tr>\n",
       "  </tbody>\n",
       "</table>\n",
       "</div>"
      ],
      "text/plain": [
       "   protocolo                                        texto_manif  \\\n",
       "0          1  Estou com problemas na fatura, veio com valor ...   \n",
       "1          2  Minha internet está muito lenta nos últimos dias.   \n",
       "2          3     Não consigo acessar minha conta no aplicativo.   \n",
       "3          4  Preciso de uma segunda via da fatura do mês pa...   \n",
       "4          5      Fiz uma compra, mas não recebi a confirmação.   \n",
       "5          6      Meu produto chegou com defeito. Quero trocar.   \n",
       "6          7  Estou tentando cancelar um serviço e não consigo.   \n",
       "7          8  Preciso alterar o endereço de entrega do meu p...   \n",
       "8          9  Fiz um pagamento, mas ainda consta como pendente.   \n",
       "9         10  Gostaria de saber sobre os planos de assinatur...   \n",
       "\n",
       "                                      texto_resposta  \n",
       "0  Prezado cliente, verificamos sua fatura e real...  \n",
       "1  Entendemos seu problema, reiniciamos o seu ser...  \n",
       "2  Verificamos que houve uma atualização recente ...  \n",
       "3  A segunda via da sua fatura foi enviada para o...  \n",
       "4  Verificamos seu pedido e ele foi confirmado co...  \n",
       "5  Sentimos muito pelo ocorrido. Iniciamos o proc...  \n",
       "6  Lamentamos pela dificuldade. O cancelamento fo...  \n",
       "7  O endereço foi atualizado conforme solicitado....  \n",
       "8  Seu pagamento foi identificado e o status será...  \n",
       "9  Temos diversos planos disponíveis! Enviamos as...  "
      ]
     },
     "execution_count": 18,
     "metadata": {},
     "output_type": "execute_result"
    }
   ],
   "source": [
    "dados = pd.read_excel('dados_exemplo.xlsx')\n",
    "df_dados = pd.DataFrame(dados)\n",
    "df_dados"
   ]
  },
  {
   "cell_type": "markdown",
   "metadata": {},
   "source": [
    "## Transformando as respostas em lista"
   ]
  },
  {
   "cell_type": "code",
   "execution_count": 19,
   "metadata": {},
   "outputs": [
    {
     "data": {
      "text/plain": [
       "['Estou com problemas na fatura, veio com valor errado.',\n",
       " 'Minha internet está muito lenta nos últimos dias.',\n",
       " 'Não consigo acessar minha conta no aplicativo.',\n",
       " 'Preciso de uma segunda via da fatura do mês passado.',\n",
       " 'Fiz uma compra, mas não recebi a confirmação.',\n",
       " 'Meu produto chegou com defeito. Quero trocar.',\n",
       " 'Estou tentando cancelar um serviço e não consigo.',\n",
       " 'Preciso alterar o endereço de entrega do meu pedido.',\n",
       " 'Fiz um pagamento, mas ainda consta como pendente.',\n",
       " 'Gostaria de saber sobre os planos de assinatura disponíveis.']"
      ]
     },
     "execution_count": 19,
     "metadata": {},
     "output_type": "execute_result"
    }
   ],
   "source": [
    "manifestacoes = df_dados['texto_manif'].tolist()\n",
    "manifestacoes"
   ]
  },
  {
   "cell_type": "markdown",
   "metadata": {},
   "source": [
    "## Vetorização com TF-IDF"
   ]
  },
  {
   "cell_type": "code",
   "execution_count": 20,
   "metadata": {},
   "outputs": [
    {
     "data": {
      "text/plain": [
       "<Compressed Sparse Row sparse matrix of dtype 'float64'\n",
       "\twith 78 stored elements and shape (10, 62)>"
      ]
     },
     "execution_count": 20,
     "metadata": {},
     "output_type": "execute_result"
    }
   ],
   "source": [
    "vectorizer = TfidfVectorizer()\n",
    "tfidf_matrix = vectorizer.fit_transform(manifestacoes)\n",
    "tfidf_matrix"
   ]
  },
  {
   "cell_type": "markdown",
   "metadata": {},
   "source": [
    "### Visualização da vetorização"
   ]
  },
  {
   "cell_type": "code",
   "execution_count": 21,
   "metadata": {},
   "outputs": [
    {
     "data": {
      "text/html": [
       "<div>\n",
       "<style scoped>\n",
       "    .dataframe tbody tr th:only-of-type {\n",
       "        vertical-align: middle;\n",
       "    }\n",
       "\n",
       "    .dataframe tbody tr th {\n",
       "        vertical-align: top;\n",
       "    }\n",
       "\n",
       "    .dataframe thead th {\n",
       "        text-align: right;\n",
       "    }\n",
       "</style>\n",
       "<table border=\"1\" class=\"dataframe\">\n",
       "  <thead>\n",
       "    <tr style=\"text-align: right;\">\n",
       "      <th></th>\n",
       "      <th>acessar</th>\n",
       "      <th>ainda</th>\n",
       "      <th>alterar</th>\n",
       "      <th>aplicativo</th>\n",
       "      <th>assinatura</th>\n",
       "      <th>cancelar</th>\n",
       "      <th>chegou</th>\n",
       "      <th>com</th>\n",
       "      <th>como</th>\n",
       "      <th>compra</th>\n",
       "      <th>...</th>\n",
       "      <th>serviço</th>\n",
       "      <th>sobre</th>\n",
       "      <th>tentando</th>\n",
       "      <th>trocar</th>\n",
       "      <th>um</th>\n",
       "      <th>uma</th>\n",
       "      <th>valor</th>\n",
       "      <th>veio</th>\n",
       "      <th>via</th>\n",
       "      <th>últimos</th>\n",
       "    </tr>\n",
       "  </thead>\n",
       "  <tbody>\n",
       "    <tr>\n",
       "      <th>0</th>\n",
       "      <td>0.000000</td>\n",
       "      <td>0.00000</td>\n",
       "      <td>0.000000</td>\n",
       "      <td>0.000000</td>\n",
       "      <td>0.000000</td>\n",
       "      <td>0.000000</td>\n",
       "      <td>0.000000</td>\n",
       "      <td>0.556438</td>\n",
       "      <td>0.00000</td>\n",
       "      <td>0.000000</td>\n",
       "      <td>...</td>\n",
       "      <td>0.000000</td>\n",
       "      <td>0.000000</td>\n",
       "      <td>0.000000</td>\n",
       "      <td>0.000000</td>\n",
       "      <td>0.000000</td>\n",
       "      <td>0.000000</td>\n",
       "      <td>0.327281</td>\n",
       "      <td>0.327281</td>\n",
       "      <td>0.000000</td>\n",
       "      <td>0.000000</td>\n",
       "    </tr>\n",
       "    <tr>\n",
       "      <th>1</th>\n",
       "      <td>0.000000</td>\n",
       "      <td>0.00000</td>\n",
       "      <td>0.000000</td>\n",
       "      <td>0.000000</td>\n",
       "      <td>0.000000</td>\n",
       "      <td>0.000000</td>\n",
       "      <td>0.000000</td>\n",
       "      <td>0.000000</td>\n",
       "      <td>0.00000</td>\n",
       "      <td>0.000000</td>\n",
       "      <td>...</td>\n",
       "      <td>0.000000</td>\n",
       "      <td>0.000000</td>\n",
       "      <td>0.000000</td>\n",
       "      <td>0.000000</td>\n",
       "      <td>0.000000</td>\n",
       "      <td>0.000000</td>\n",
       "      <td>0.000000</td>\n",
       "      <td>0.000000</td>\n",
       "      <td>0.000000</td>\n",
       "      <td>0.359846</td>\n",
       "    </tr>\n",
       "    <tr>\n",
       "      <th>2</th>\n",
       "      <td>0.408301</td>\n",
       "      <td>0.00000</td>\n",
       "      <td>0.000000</td>\n",
       "      <td>0.408301</td>\n",
       "      <td>0.000000</td>\n",
       "      <td>0.000000</td>\n",
       "      <td>0.000000</td>\n",
       "      <td>0.000000</td>\n",
       "      <td>0.00000</td>\n",
       "      <td>0.000000</td>\n",
       "      <td>...</td>\n",
       "      <td>0.000000</td>\n",
       "      <td>0.000000</td>\n",
       "      <td>0.000000</td>\n",
       "      <td>0.000000</td>\n",
       "      <td>0.000000</td>\n",
       "      <td>0.000000</td>\n",
       "      <td>0.000000</td>\n",
       "      <td>0.000000</td>\n",
       "      <td>0.000000</td>\n",
       "      <td>0.000000</td>\n",
       "    </tr>\n",
       "    <tr>\n",
       "      <th>3</th>\n",
       "      <td>0.000000</td>\n",
       "      <td>0.00000</td>\n",
       "      <td>0.000000</td>\n",
       "      <td>0.000000</td>\n",
       "      <td>0.000000</td>\n",
       "      <td>0.000000</td>\n",
       "      <td>0.000000</td>\n",
       "      <td>0.000000</td>\n",
       "      <td>0.00000</td>\n",
       "      <td>0.000000</td>\n",
       "      <td>...</td>\n",
       "      <td>0.000000</td>\n",
       "      <td>0.000000</td>\n",
       "      <td>0.000000</td>\n",
       "      <td>0.000000</td>\n",
       "      <td>0.000000</td>\n",
       "      <td>0.292548</td>\n",
       "      <td>0.000000</td>\n",
       "      <td>0.000000</td>\n",
       "      <td>0.344138</td>\n",
       "      <td>0.000000</td>\n",
       "    </tr>\n",
       "    <tr>\n",
       "      <th>4</th>\n",
       "      <td>0.000000</td>\n",
       "      <td>0.00000</td>\n",
       "      <td>0.000000</td>\n",
       "      <td>0.000000</td>\n",
       "      <td>0.000000</td>\n",
       "      <td>0.000000</td>\n",
       "      <td>0.000000</td>\n",
       "      <td>0.000000</td>\n",
       "      <td>0.00000</td>\n",
       "      <td>0.418081</td>\n",
       "      <td>...</td>\n",
       "      <td>0.000000</td>\n",
       "      <td>0.000000</td>\n",
       "      <td>0.000000</td>\n",
       "      <td>0.000000</td>\n",
       "      <td>0.000000</td>\n",
       "      <td>0.355407</td>\n",
       "      <td>0.000000</td>\n",
       "      <td>0.000000</td>\n",
       "      <td>0.000000</td>\n",
       "      <td>0.000000</td>\n",
       "    </tr>\n",
       "    <tr>\n",
       "      <th>5</th>\n",
       "      <td>0.000000</td>\n",
       "      <td>0.00000</td>\n",
       "      <td>0.000000</td>\n",
       "      <td>0.000000</td>\n",
       "      <td>0.000000</td>\n",
       "      <td>0.000000</td>\n",
       "      <td>0.393893</td>\n",
       "      <td>0.334845</td>\n",
       "      <td>0.00000</td>\n",
       "      <td>0.000000</td>\n",
       "      <td>...</td>\n",
       "      <td>0.000000</td>\n",
       "      <td>0.000000</td>\n",
       "      <td>0.000000</td>\n",
       "      <td>0.393893</td>\n",
       "      <td>0.000000</td>\n",
       "      <td>0.000000</td>\n",
       "      <td>0.000000</td>\n",
       "      <td>0.000000</td>\n",
       "      <td>0.000000</td>\n",
       "      <td>0.000000</td>\n",
       "    </tr>\n",
       "    <tr>\n",
       "      <th>6</th>\n",
       "      <td>0.000000</td>\n",
       "      <td>0.00000</td>\n",
       "      <td>0.000000</td>\n",
       "      <td>0.000000</td>\n",
       "      <td>0.000000</td>\n",
       "      <td>0.418081</td>\n",
       "      <td>0.000000</td>\n",
       "      <td>0.000000</td>\n",
       "      <td>0.00000</td>\n",
       "      <td>0.000000</td>\n",
       "      <td>...</td>\n",
       "      <td>0.418081</td>\n",
       "      <td>0.000000</td>\n",
       "      <td>0.418081</td>\n",
       "      <td>0.000000</td>\n",
       "      <td>0.355407</td>\n",
       "      <td>0.000000</td>\n",
       "      <td>0.000000</td>\n",
       "      <td>0.000000</td>\n",
       "      <td>0.000000</td>\n",
       "      <td>0.000000</td>\n",
       "    </tr>\n",
       "    <tr>\n",
       "      <th>7</th>\n",
       "      <td>0.000000</td>\n",
       "      <td>0.00000</td>\n",
       "      <td>0.385727</td>\n",
       "      <td>0.000000</td>\n",
       "      <td>0.000000</td>\n",
       "      <td>0.000000</td>\n",
       "      <td>0.000000</td>\n",
       "      <td>0.000000</td>\n",
       "      <td>0.00000</td>\n",
       "      <td>0.000000</td>\n",
       "      <td>...</td>\n",
       "      <td>0.000000</td>\n",
       "      <td>0.000000</td>\n",
       "      <td>0.000000</td>\n",
       "      <td>0.000000</td>\n",
       "      <td>0.000000</td>\n",
       "      <td>0.000000</td>\n",
       "      <td>0.000000</td>\n",
       "      <td>0.000000</td>\n",
       "      <td>0.000000</td>\n",
       "      <td>0.000000</td>\n",
       "    </tr>\n",
       "    <tr>\n",
       "      <th>8</th>\n",
       "      <td>0.000000</td>\n",
       "      <td>0.37351</td>\n",
       "      <td>0.000000</td>\n",
       "      <td>0.000000</td>\n",
       "      <td>0.000000</td>\n",
       "      <td>0.000000</td>\n",
       "      <td>0.000000</td>\n",
       "      <td>0.000000</td>\n",
       "      <td>0.37351</td>\n",
       "      <td>0.000000</td>\n",
       "      <td>...</td>\n",
       "      <td>0.000000</td>\n",
       "      <td>0.000000</td>\n",
       "      <td>0.000000</td>\n",
       "      <td>0.000000</td>\n",
       "      <td>0.317517</td>\n",
       "      <td>0.000000</td>\n",
       "      <td>0.000000</td>\n",
       "      <td>0.000000</td>\n",
       "      <td>0.000000</td>\n",
       "      <td>0.000000</td>\n",
       "    </tr>\n",
       "    <tr>\n",
       "      <th>9</th>\n",
       "      <td>0.000000</td>\n",
       "      <td>0.00000</td>\n",
       "      <td>0.000000</td>\n",
       "      <td>0.000000</td>\n",
       "      <td>0.329466</td>\n",
       "      <td>0.000000</td>\n",
       "      <td>0.000000</td>\n",
       "      <td>0.000000</td>\n",
       "      <td>0.00000</td>\n",
       "      <td>0.000000</td>\n",
       "      <td>...</td>\n",
       "      <td>0.000000</td>\n",
       "      <td>0.329466</td>\n",
       "      <td>0.000000</td>\n",
       "      <td>0.000000</td>\n",
       "      <td>0.000000</td>\n",
       "      <td>0.000000</td>\n",
       "      <td>0.000000</td>\n",
       "      <td>0.000000</td>\n",
       "      <td>0.000000</td>\n",
       "      <td>0.000000</td>\n",
       "    </tr>\n",
       "  </tbody>\n",
       "</table>\n",
       "<p>10 rows × 62 columns</p>\n",
       "</div>"
      ],
      "text/plain": [
       "    acessar    ainda   alterar  aplicativo  assinatura  cancelar    chegou  \\\n",
       "0  0.000000  0.00000  0.000000    0.000000    0.000000  0.000000  0.000000   \n",
       "1  0.000000  0.00000  0.000000    0.000000    0.000000  0.000000  0.000000   \n",
       "2  0.408301  0.00000  0.000000    0.408301    0.000000  0.000000  0.000000   \n",
       "3  0.000000  0.00000  0.000000    0.000000    0.000000  0.000000  0.000000   \n",
       "4  0.000000  0.00000  0.000000    0.000000    0.000000  0.000000  0.000000   \n",
       "5  0.000000  0.00000  0.000000    0.000000    0.000000  0.000000  0.393893   \n",
       "6  0.000000  0.00000  0.000000    0.000000    0.000000  0.418081  0.000000   \n",
       "7  0.000000  0.00000  0.385727    0.000000    0.000000  0.000000  0.000000   \n",
       "8  0.000000  0.37351  0.000000    0.000000    0.000000  0.000000  0.000000   \n",
       "9  0.000000  0.00000  0.000000    0.000000    0.329466  0.000000  0.000000   \n",
       "\n",
       "        com     como    compra  ...   serviço     sobre  tentando    trocar  \\\n",
       "0  0.556438  0.00000  0.000000  ...  0.000000  0.000000  0.000000  0.000000   \n",
       "1  0.000000  0.00000  0.000000  ...  0.000000  0.000000  0.000000  0.000000   \n",
       "2  0.000000  0.00000  0.000000  ...  0.000000  0.000000  0.000000  0.000000   \n",
       "3  0.000000  0.00000  0.000000  ...  0.000000  0.000000  0.000000  0.000000   \n",
       "4  0.000000  0.00000  0.418081  ...  0.000000  0.000000  0.000000  0.000000   \n",
       "5  0.334845  0.00000  0.000000  ...  0.000000  0.000000  0.000000  0.393893   \n",
       "6  0.000000  0.00000  0.000000  ...  0.418081  0.000000  0.418081  0.000000   \n",
       "7  0.000000  0.00000  0.000000  ...  0.000000  0.000000  0.000000  0.000000   \n",
       "8  0.000000  0.37351  0.000000  ...  0.000000  0.000000  0.000000  0.000000   \n",
       "9  0.000000  0.00000  0.000000  ...  0.000000  0.329466  0.000000  0.000000   \n",
       "\n",
       "         um       uma     valor      veio       via   últimos  \n",
       "0  0.000000  0.000000  0.327281  0.327281  0.000000  0.000000  \n",
       "1  0.000000  0.000000  0.000000  0.000000  0.000000  0.359846  \n",
       "2  0.000000  0.000000  0.000000  0.000000  0.000000  0.000000  \n",
       "3  0.000000  0.292548  0.000000  0.000000  0.344138  0.000000  \n",
       "4  0.000000  0.355407  0.000000  0.000000  0.000000  0.000000  \n",
       "5  0.000000  0.000000  0.000000  0.000000  0.000000  0.000000  \n",
       "6  0.355407  0.000000  0.000000  0.000000  0.000000  0.000000  \n",
       "7  0.000000  0.000000  0.000000  0.000000  0.000000  0.000000  \n",
       "8  0.317517  0.000000  0.000000  0.000000  0.000000  0.000000  \n",
       "9  0.000000  0.000000  0.000000  0.000000  0.000000  0.000000  \n",
       "\n",
       "[10 rows x 62 columns]"
      ]
     },
     "execution_count": 21,
     "metadata": {},
     "output_type": "execute_result"
    }
   ],
   "source": [
    "# nomes dos termos (as palavras do vocabulário)\n",
    "terms = vectorizer.get_feature_names_out()\n",
    "\n",
    "# converte a matriz TF-IDF para um array denso\n",
    "dense_matrix = tfidf_matrix.todense()\n",
    "\n",
    "# converte para df\n",
    "df_tfidf = pd.DataFrame(dense_matrix, columns=terms)\n",
    "\n",
    "df_tfidf"
   ]
  },
  {
   "cell_type": "markdown",
   "metadata": {},
   "source": [
    "## Função para encontrar a manifestação mais similar"
   ]
  },
  {
   "cell_type": "markdown",
   "metadata": {},
   "source": [
    "### Com Scikit-learn"
   ]
  },
  {
   "cell_type": "code",
   "execution_count": 22,
   "metadata": {},
   "outputs": [],
   "source": [
    "lemmatizer = WordNetLemmatizer()\n",
    "stop_words = set(stopwords.words('portuguese'))\n",
    "\n",
    "def preprocess_text(text):\n",
    "    # remover caracteres especiais e converter para minúsculas\n",
    "    text = re.sub(r'\\W', ' ', text).lower()\n",
    "\n",
    "    # tokenizar e lematizar\n",
    "    tokens = text.split()\n",
    "    tokens = [lemmatizer.lemmatize(word) for word in tokens if word not in stop_words]\n",
    "    \n",
    "    return ' '.join(tokens)\n",
    "\n",
    "# aplicando o preprocessamento às manifestações e à nova mensagem do cliente\n",
    "manifestacoes_processadas = [preprocess_text(m) for m in manifestacoes]\n",
    "mensagem_cliente_processada = preprocess_text(mensagem_cliente)\n"
   ]
  },
  {
   "cell_type": "code",
   "execution_count": 23,
   "metadata": {},
   "outputs": [
    {
     "data": {
      "text/plain": [
       "'problemas aplicativo'"
      ]
     },
     "execution_count": 23,
     "metadata": {},
     "output_type": "execute_result"
    }
   ],
   "source": [
    "mensagem_cliente_processada"
   ]
  },
  {
   "cell_type": "code",
   "execution_count": 24,
   "metadata": {},
   "outputs": [
    {
     "name": "stdout",
     "output_type": "stream",
     "text": [
      "\n",
      "Mensagem cliente: estou com problemas no aplicativo\n",
      "\n",
      "Mensagem recuperada: Não consigo acessar minha conta no aplicativo.\n",
      "\n",
      "Resposta recuperada: Verificamos que houve uma atualização recente no app. Por favor, tente reinstalar. Se o problema continuar, nos avise.\n"
     ]
    }
   ],
   "source": [
    "def recuperar_resposta(mensagem_cliente):\n",
    "    # vetorizar a nova manifestação do cliente\n",
    "    mensagem_cliente_tfidf = vectorizer.transform([mensagem_cliente])\n",
    "    \n",
    "    # calcular a similaridade de cosseno com todas as manifestações da base\n",
    "    similaridades = cosine_similarity(mensagem_cliente_tfidf, tfidf_matrix)\n",
    "    \n",
    "    # encontrar o índice da manifestação mais similar\n",
    "    indice_mais_similar = similaridades.argmax()\n",
    "    similaridade_maxima = similaridades.max()\n",
    "\n",
    "    threshold = 0.1  # limiar de similaridade\n",
    "\n",
    "    if similaridade_maxima >= threshold:\n",
    "        # manifestação e a resposta associada do atendente\n",
    "        manifestacao_similar = manifestacoes[indice_mais_similar]\n",
    "        \n",
    "        # texto_resposta com base no texto_manif correspondente\n",
    "        resposta_recuperada = df_dados.loc[df_dados['texto_manif'] == manifestacao_similar, 'texto_resposta'].values[0]\n",
    "\n",
    "    return resposta_recuperada, manifestacao_similar\n",
    "\n",
    "# teste para recuperar a manifestação e a resposta mais similar da base de dados\n",
    "resposta_recuperada, manifestacao_similar = recuperar_resposta(mensagem_cliente_processada)\n",
    "\n",
    "print(f\"\\nMensagem cliente: {mensagem_cliente}\")\n",
    "print(f\"\\nMensagem recuperada: {manifestacao_similar}\")\n",
    "print(f\"\\nResposta recuperada: {resposta_recuperada}\")\n"
   ]
  },
  {
   "cell_type": "markdown",
   "metadata": {},
   "source": [
    "### Com embeddings da OpenAI"
   ]
  },
  {
   "cell_type": "code",
   "execution_count": 25,
   "metadata": {},
   "outputs": [],
   "source": [
    "# # Função para gerar embeddings usando a API da OpenAI\n",
    "# def gerar_embeddings_textos(textos):\n",
    "#     response = client.embeddings.create(\n",
    "#         model=\"text-embedding-ada-002\",\n",
    "#         input=textos\n",
    "#     )\n",
    "    \n",
    "#     # Acessando corretamente os dados da resposta\n",
    "#     embeddings = [r.embedding for r in response.data]\n",
    "#     return np.array(embeddings)\n",
    "\n",
    "# # Geração dos embeddings para as manifestações\n",
    "# embeddings_manifestacoes = gerar_embeddings_textos(manifestacoes)\n",
    "# embeddings_manifestacoes"
   ]
  },
  {
   "cell_type": "code",
   "execution_count": 26,
   "metadata": {},
   "outputs": [],
   "source": [
    "# def recuperar_resposta_com_embeddings(mensagem_cliente):\n",
    "#     # Gerar embedding para a nova manifestação do cliente\n",
    "#     embedding_cliente = gerar_embeddings_textos([mensagem_cliente])[0]  # Pega o primeiro (e único) vetor\n",
    "    \n",
    "#     # Calcular a similaridade de cosseno entre a manifestação do cliente e todas as manifestações da base\n",
    "#     similaridades = cosine_similarity([embedding_cliente], embeddings_manifestacoes)\n",
    "    \n",
    "#     # Encontrar o índice da manifestação mais similar\n",
    "#     indice_mais_similar = np.argmax(similaridades)\n",
    "    \n",
    "#     # Retornar a resposta correspondente\n",
    "#     return dados[indice_mais_similar]['resposta']\n",
    "# recuperar_resposta_com_embeddings(mensagem_cliente)"
   ]
  },
  {
   "cell_type": "markdown",
   "metadata": {},
   "source": [
    "### Agora que conseguimos recuperar a resposta mais similar da base de dados, vamos usar essa resposta como contexto para gerar uma nova resposta usando o gpt 3.5"
   ]
  },
  {
   "cell_type": "markdown",
   "metadata": {},
   "source": [
    "## Função para gerar resposta final usando GPT-3.5 com a resposta recuperada"
   ]
  },
  {
   "cell_type": "code",
   "execution_count": 27,
   "metadata": {},
   "outputs": [],
   "source": [
    "def gerar_resposta_automatica(mensagem_cliente):    \n",
    "    # chamada da API para gerar a resposta final\n",
    "    response = client.chat.completions.create(\n",
    "        messages=[\n",
    "            {\"role\": \"system\", \"content\": \"Você é um atendente que responde clientes de forma educada, objetiva e clara.\"},\n",
    "            \n",
    "            # contexto com a resposta recuperada\n",
    "            {\"role\": \"user\", \"content\": f\"O cliente disse: {mensagem_cliente}. Manifestação anterior: {manifestacao_similar}. Resposta anterior: {resposta_recuperada}. Por favor, responda ao cliente de forma clara e objetiva.\"}\n",
    "        ],\n",
    "        model=\"gpt-3.5-turbo\",\n",
    "        temperature=0.1,        # ajuste de criatividade\n",
    "        max_tokens=150,         # limite de tokens para a resposta\n",
    "        n=1                     # número de respostas a serem geradas\n",
    "    )\n",
    "    \n",
    "    return response.choices[0].message.content.strip()  # apenas o texto limpo"
   ]
  },
  {
   "cell_type": "code",
   "execution_count": 28,
   "metadata": {},
   "outputs": [
    {
     "name": "stdout",
     "output_type": "stream",
     "text": [
      "Olá, lamentamos pelo transtorno. Recomendamos que você tente reinstalar o aplicativo. Se o problema persistir, por favor, entre em contato conosco para que possamos ajudá-lo a resolver a questão.\n"
     ]
    }
   ],
   "source": [
    "resposta_automatica = gerar_resposta_automatica(mensagem_cliente)\n",
    "print(resposta_automatica)"
   ]
  },
  {
   "cell_type": "code",
   "execution_count": null,
   "metadata": {},
   "outputs": [],
   "source": []
  }
 ],
 "metadata": {
  "kernelspec": {
   "display_name": "Python 3",
   "language": "python",
   "name": "python3"
  },
  "language_info": {
   "codemirror_mode": {
    "name": "ipython",
    "version": 3
   },
   "file_extension": ".py",
   "mimetype": "text/x-python",
   "name": "python",
   "nbconvert_exporter": "python",
   "pygments_lexer": "ipython3",
   "version": "3.11.9"
  }
 },
 "nbformat": 4,
 "nbformat_minor": 2
}
